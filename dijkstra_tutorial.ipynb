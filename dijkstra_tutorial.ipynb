{
 "cells": [
  {
   "cell_type": "markdown",
   "metadata": {},
   "source": [
    "# Intro to Dijkstra's shortest path algorithm\n",
    "\n",
    "This notebook serves as a tutorial describing how Djikstra's shortest path algorithm works, as well as providing a Python implementation with extensive comments. The code was re-written based on Alex Woods's implementation [here](https://alexhwoods.com/dijkstra/). I also recommend the visualizations [here](https://brilliant.org/wiki/dijkstras-short-path-finder/) for seeing how the algorithm proceeds in a step-by-step fashion.  \n",
    "\n",
    "The following code implements Dijkstra's route-finding algorithm to find the shortest paths through a directed graph. The code has three components:\n",
    "1. A `Graph` class that generates the data structure. This class contains _vertices_ (also called _nodes_) that represent intersection points, and _edges_, which correspond to paths between vertices. These edges have _weights_, or numeric values representing the distance between vertices along that edge.\n",
    "2. A `find_paths` function which measures the distances between vertices, finding the shortest possible paths.\n",
    "3. A `shortest_path` function which takes two vertex IDs as inputs and returns the shortest path"
   ]
  },
  {
   "cell_type": "markdown",
   "metadata": {},
   "source": [
    "We'll start out by implementing the `Graph` class, which is explained above."
   ]
  },
  {
   "cell_type": "code",
   "execution_count": 14,
   "metadata": {},
   "outputs": [],
   "source": [
    "import collections\n",
    "import math\n",
    "\n",
    "# Define the Graph class. it has vertices, directed edges, and weights for the edges.\n",
    "class Graph(object):\n",
    "    \"\"\"A class of vertices and edges connecting them\"\"\"\n",
    "    \n",
    "    def __init__(self):\n",
    "        self.vertices = set()  # using set instead of list avoids duplicates\n",
    "        self.edges = collections.defaultdict(list)  # empty edge dict with list-type values\n",
    "        self.weights = {}\n",
    "        \n",
    "    def add_vertex(self, vertex_id):\n",
    "        \"\"\"Add a new vertex identified as v\"\"\"\n",
    "        self.vertices.add(vertex_id)\n",
    "    \n",
    "    def add_edge(self, start_vertex, end_vertex, weight):\n",
    "        \"\"\"Add an edge connecting start_vertex and end_vertex with weight\"\"\"\n",
    "        if start_vertex == end_vertex:\n",
    "            pass  # no cycles allowed\n",
    "        self.edges[start_vertex].append(end_vertex)\n",
    "        self.weights[(start_vertex, end_vertex)] = weight\n",
    "    \n",
    "    def __str__(self):\n",
    "        string = \"Vertices: \" + str(self.vertices) + \"\\n\"\n",
    "        string += \"Edges: \" + str(self.edges) + \"\\n\"\n",
    "        string += \"Weights: \" + str(self.weights)\n",
    "        return string"
   ]
  },
  {
   "cell_type": "markdown",
   "metadata": {},
   "source": [
    "Next, we'll implement the `dijkstra` function. This function takes two arguments:\n",
    "- `graph`, an object of class `Graph` containing all of the vertices, edges, and weights.\n",
    "- `start_vertex`, the starting point that you want to measure distances to.  \n",
    "\n",
    "The function proceeds through the following steps:\n",
    "1. Initialize `distances`, a dictionary that will hold the minimum distance from `start_vertex`. `distances` is initialized with all values being infinity, except for `distances[start_vertex]`, which is initialized as zero.\n",
    "2. Initialize `previous`, a dictionary which will hold the previous vertex along the shortest path from `start_vertex` to every other vertex in `graph`.\n",
    "3. Initialize `already_visited`, which will hold the vertices that have been traversed by the `djikstra` function to prevent looping.\n",
    "4. Iterate through all of the vertices in `graph` until all have been visited, and do the following:  \n",
    "\n",
    "    4a. pick the vertex `v` with the lowest value for `distances` that isn't in `already_visited`. This will be `start_vertex` in the first pass (the only one with value below infinity in `distances`); the `distances` values for other vertices are updated within the loop.  \n",
    "    4b. get the distance from `start_vertex` to `v` from `distances`.  \n",
    "    4c. get the list of `v`'s neighbors from `graph.edges[v]`, which stores edges as lists of connected vertices.  \n",
    "    4d. for each neighbor vertex that isn't in `already_visited`, check to see if traveling to the neighbor through `v` is shorter than the currently known shortest path (stored in `distances`). If it is, replace `distances[neighbor]` with `distances[v] + graph.weights[v, neighbor]`.  \n",
    "    4e. if the shortest path was through `v`, update `previous[neighbor]` to reflect that.  \n",
    "    4f. having checked all neighbors for vertex `v`, add `v` to `already_visited`.  \n",
    "5. Return `distances`, which indicates the minimum distance to each vertex, and `previous`, which stores the previous vertex along the shortest path from `start_vertex` to each vertex in `graph`."
   ]
  },
  {
   "cell_type": "code",
   "execution_count": 26,
   "metadata": {},
   "outputs": [],
   "source": [
    "# define the Dijkstra function, which finds the shortest distances between vertices\n",
    "# and the previous vertex along the shortest route to each vertex\n",
    "def dijkstra(graph, start_vertex):\n",
    "    \"\"\"Find the shortest distance to each vertex beginning at start_vertex\"\"\"\n",
    "    # initialize distance to each vertex in graph from start_vertex. This should be\n",
    "    # initialized as 0 for start_vertex and infinity for all other vertices.\n",
    "    distances = dict.fromkeys(list(graph.vertices), math.inf)  # Step 1\n",
    "    distances[start_vertex] = 0\n",
    "    # initialize a dictionary called previous which will indicate which vertex precedes\n",
    "    # each non-start vertex in the shortest path\n",
    "    previous = dict.fromkeys(list(graph.vertices), None)  # Step 2\n",
    "    # generate a set of tested vertices to track where you've been\n",
    "    already_visited = set()  # Step 3\n",
    "    # iterate over vertices with shortest distances.\n",
    "    while already_visited != graph.vertices:  # Step 4\n",
    "        # get the un-visited vertex with the shortest distance from start_vertex\n",
    "        v = min((set(distances.keys()) - already_visited), key=distances.get)  # Step 4a\n",
    "        v_dist = distances[v]  # Step 4b\n",
    "        for neighbor in graph.edges[v]:  # Step 4c\n",
    "            # the if block below comprises Step 4d-e\n",
    "            if neighbor not in already_visited:\n",
    "                full_dist_this_path = v_dist + graph.weights[v, neighbor]\n",
    "                # next, check if this is the shortest path yet to neighbor\n",
    "                if distances[neighbor] > full_dist_this_path:\n",
    "                    distances[neighbor] = full_dist_this_path  # end of step 4d\n",
    "                    previous[neighbor] = v  # step 4e\n",
    "        already_visited.add(v)  # step 4f\n",
    "    return distances, previous  # step 5\n"
   ]
  },
  {
   "cell_type": "markdown",
   "metadata": {},
   "source": [
    "Finally, we'll implement `shortest_path`. This function takes three arguments: `graph`, `start_vertex`, and `end_vertex`, which correspond to a graph as described above, and the IDs for the beginning and ending vertices that you want a path for, respectively. The function generates the minimum distances and the previous vertices along paths using `djikstra(graph, start_vertex)`, and then generates a list of vertices along the shortest path from `start_vertex` to `end_vertex` by proceeding backward through `previous` from `end_vertex`."
   ]
  },
  {
   "cell_type": "code",
   "execution_count": 27,
   "metadata": {},
   "outputs": [],
   "source": [
    "# define shortest_path, which uses previous from dijkstra to get the shortest path\n",
    "def shortest_path(graph, start_vertex, end_vertex):\n",
    "    \"\"\"Find the shortest path from start_vertex to end_vertex\"\"\"\n",
    "    distances, previous = dijkstra(graph, start_vertex)\n",
    "    path = [end_vertex]\n",
    "    next_vertex = previous[end_vertex]\n",
    "    while next_vertex is not None:\n",
    "        path.append(next_vertex)\n",
    "        next_vertex = previous[next_vertex]\n",
    "    path.reverse()  # order from start to end\n",
    "    return path"
   ]
  },
  {
   "cell_type": "markdown",
   "metadata": {},
   "source": [
    "## Test case\n",
    "\n",
    "See below for an implementation of a test case using the code provided above. The graph in the test case is represented in the image below, and the path from vertex __A__ to vertex __H__ is found.  \n",
    "<img src='IMG_7364.JPG'>"
   ]
  },
  {
   "cell_type": "code",
   "execution_count": 25,
   "metadata": {},
   "outputs": [
    {
     "name": "stdout",
     "output_type": "stream",
     "text": [
      "Graph: \n",
      "Vertices: {'a', 'e', 'f', 'd', 'g', 'b', 'h', 'c'}\n",
      "Edges: defaultdict(<class 'list'>, {'a': ['b', 'c', 'd'], 'b': ['e'], 'c': ['e'], 'd': ['f'], 'e': ['f', 'g'], 'f': ['h'], 'g': ['h']})\n",
      "Weights: {('a', 'b'): 1, ('a', 'c'): 4, ('a', 'd'): 3, ('b', 'e'): 4, ('c', 'e'): 2, ('d', 'f'): 1, ('e', 'f'): 2, ('e', 'g'): 3, ('f', 'h'): 1, ('g', 'h'): 4}\n",
      "\n",
      "Shortest path from a to h: ['a', 'd', 'f', 'h']\n"
     ]
    }
   ],
   "source": [
    "### TEST RUN ###\n",
    "G = Graph()\n",
    "G.add_vertex('a')\n",
    "G.add_vertex('b')\n",
    "G.add_vertex('c')\n",
    "G.add_vertex('d')\n",
    "G.add_vertex('e')\n",
    "G.add_vertex('f')\n",
    "G.add_vertex('g')\n",
    "G.add_vertex('h')\n",
    " \n",
    "G.add_edge('a', 'b', 1)\n",
    "G.add_edge('a', 'c', 4)\n",
    "G.add_edge('a', 'd', 3)\n",
    "G.add_edge('b', 'e', 4)\n",
    "G.add_edge('c', 'e', 2)\n",
    "G.add_edge('d', 'f', 1)\n",
    "G.add_edge('e', 'f', 2)\n",
    "G.add_edge('e', 'g', 3)\n",
    "G.add_edge('f', 'h', 1)\n",
    "G.add_edge('g', 'h', 4)\n",
    " \n",
    "print('Graph: \\n{}'.format(G)) \n",
    "print()\n",
    "print('Shortest path from {} to {}: {}'.format('a','h',shortest_path(G, 'a', 'h')))"
   ]
  }
 ],
 "metadata": {
  "kernelspec": {
   "display_name": "insight",
   "language": "python",
   "name": "insight"
  },
  "language_info": {
   "codemirror_mode": {
    "name": "ipython",
    "version": 3
   },
   "file_extension": ".py",
   "mimetype": "text/x-python",
   "name": "python",
   "nbconvert_exporter": "python",
   "pygments_lexer": "ipython3",
   "version": "3.6.1"
  }
 },
 "nbformat": 4,
 "nbformat_minor": 2
}
